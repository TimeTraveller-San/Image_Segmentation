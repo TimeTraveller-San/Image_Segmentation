{
 "cells": [
  {
   "cell_type": "markdown",
   "metadata": {},
   "source": [
    "# Prepare data"
   ]
  },
  {
   "cell_type": "code",
   "execution_count": 2,
   "metadata": {},
   "outputs": [],
   "source": [
    "import pandas as pd\n",
    "import numpy as np"
   ]
  },
  {
   "cell_type": "code",
   "execution_count": 3,
   "metadata": {},
   "outputs": [
    {
     "data": {
      "text/html": [
       "<div>\n",
       "<style scoped>\n",
       "    .dataframe tbody tr th:only-of-type {\n",
       "        vertical-align: middle;\n",
       "    }\n",
       "\n",
       "    .dataframe tbody tr th {\n",
       "        vertical-align: top;\n",
       "    }\n",
       "\n",
       "    .dataframe thead th {\n",
       "        text-align: right;\n",
       "    }\n",
       "</style>\n",
       "<table border=\"1\" class=\"dataframe\">\n",
       "  <thead>\n",
       "    <tr style=\"text-align: right;\">\n",
       "      <th></th>\n",
       "      <th>Image_Label</th>\n",
       "      <th>EncodedPixels</th>\n",
       "    </tr>\n",
       "  </thead>\n",
       "  <tbody>\n",
       "    <tr>\n",
       "      <th>0</th>\n",
       "      <td>0011165.jpg_Fish</td>\n",
       "      <td>264918 937 266318 937 267718 937 269118 937 27...</td>\n",
       "    </tr>\n",
       "    <tr>\n",
       "      <th>1</th>\n",
       "      <td>0011165.jpg_Flower</td>\n",
       "      <td>1355565 1002 1356965 1002 1358365 1002 1359765...</td>\n",
       "    </tr>\n",
       "    <tr>\n",
       "      <th>2</th>\n",
       "      <td>0011165.jpg_Gravel</td>\n",
       "      <td>NaN</td>\n",
       "    </tr>\n",
       "    <tr>\n",
       "      <th>3</th>\n",
       "      <td>0011165.jpg_Sugar</td>\n",
       "      <td>NaN</td>\n",
       "    </tr>\n",
       "    <tr>\n",
       "      <th>4</th>\n",
       "      <td>002be4f.jpg_Fish</td>\n",
       "      <td>233813 878 235213 878 236613 878 238010 881 23...</td>\n",
       "    </tr>\n",
       "  </tbody>\n",
       "</table>\n",
       "</div>"
      ],
      "text/plain": [
       "          Image_Label                                      EncodedPixels\n",
       "0    0011165.jpg_Fish  264918 937 266318 937 267718 937 269118 937 27...\n",
       "1  0011165.jpg_Flower  1355565 1002 1356965 1002 1358365 1002 1359765...\n",
       "2  0011165.jpg_Gravel                                                NaN\n",
       "3   0011165.jpg_Sugar                                                NaN\n",
       "4    002be4f.jpg_Fish  233813 878 235213 878 236613 878 238010 881 23..."
      ]
     },
     "execution_count": 3,
     "metadata": {},
     "output_type": "execute_result"
    }
   ],
   "source": [
    "train_df = pd.read_csv('../input/train.csv')\n",
    "train_df.head()"
   ]
  },
  {
   "cell_type": "code",
   "execution_count": 4,
   "metadata": {},
   "outputs": [
    {
     "data": {
      "text/html": [
       "<div>\n",
       "<style scoped>\n",
       "    .dataframe tbody tr th:only-of-type {\n",
       "        vertical-align: middle;\n",
       "    }\n",
       "\n",
       "    .dataframe tbody tr th {\n",
       "        vertical-align: top;\n",
       "    }\n",
       "\n",
       "    .dataframe thead th {\n",
       "        text-align: right;\n",
       "    }\n",
       "</style>\n",
       "<table border=\"1\" class=\"dataframe\">\n",
       "  <thead>\n",
       "    <tr style=\"text-align: right;\">\n",
       "      <th></th>\n",
       "      <th>Image</th>\n",
       "      <th>Class</th>\n",
       "      <th>Fish</th>\n",
       "      <th>Flower</th>\n",
       "      <th>Sugar</th>\n",
       "      <th>Gravel</th>\n",
       "    </tr>\n",
       "  </thead>\n",
       "  <tbody>\n",
       "    <tr>\n",
       "      <th>0</th>\n",
       "      <td>0011165.jpg</td>\n",
       "      <td>{Flower, Fish}</td>\n",
       "      <td>1</td>\n",
       "      <td>1</td>\n",
       "      <td>0</td>\n",
       "      <td>0</td>\n",
       "    </tr>\n",
       "    <tr>\n",
       "      <th>1</th>\n",
       "      <td>002be4f.jpg</td>\n",
       "      <td>{Flower, Sugar, Fish}</td>\n",
       "      <td>1</td>\n",
       "      <td>1</td>\n",
       "      <td>1</td>\n",
       "      <td>0</td>\n",
       "    </tr>\n",
       "    <tr>\n",
       "      <th>2</th>\n",
       "      <td>0031ae9.jpg</td>\n",
       "      <td>{Flower, Sugar, Fish}</td>\n",
       "      <td>1</td>\n",
       "      <td>1</td>\n",
       "      <td>1</td>\n",
       "      <td>0</td>\n",
       "    </tr>\n",
       "    <tr>\n",
       "      <th>3</th>\n",
       "      <td>0035239.jpg</td>\n",
       "      <td>{Flower, Gravel}</td>\n",
       "      <td>0</td>\n",
       "      <td>1</td>\n",
       "      <td>0</td>\n",
       "      <td>1</td>\n",
       "    </tr>\n",
       "    <tr>\n",
       "      <th>4</th>\n",
       "      <td>003994e.jpg</td>\n",
       "      <td>{Sugar, Gravel, Fish}</td>\n",
       "      <td>1</td>\n",
       "      <td>0</td>\n",
       "      <td>1</td>\n",
       "      <td>1</td>\n",
       "    </tr>\n",
       "  </tbody>\n",
       "</table>\n",
       "</div>"
      ],
      "text/plain": [
       "         Image                  Class  Fish  Flower  Sugar  Gravel\n",
       "0  0011165.jpg         {Flower, Fish}     1       1      0       0\n",
       "1  002be4f.jpg  {Flower, Sugar, Fish}     1       1      1       0\n",
       "2  0031ae9.jpg  {Flower, Sugar, Fish}     1       1      1       0\n",
       "3  0035239.jpg       {Flower, Gravel}     0       1      0       1\n",
       "4  003994e.jpg  {Sugar, Gravel, Fish}     1       0      1       1"
      ]
     },
     "execution_count": 4,
     "metadata": {},
     "output_type": "execute_result"
    }
   ],
   "source": [
    "train_df = train_df[~train_df['EncodedPixels'].isnull()]\n",
    "train_df['Image'] = train_df['Image_Label'].map(lambda x: x.split('_')[0])\n",
    "train_df['Class'] = train_df['Image_Label'].map(lambda x: x.split('_')[1])\n",
    "classes = train_df['Class'].unique()\n",
    "train_df = train_df.groupby('Image')['Class'].agg(set).reset_index()\n",
    "for class_name in classes:\n",
    "    train_df[class_name] = train_df['Class'].map(lambda x: 1 if class_name in x else 0)\n",
    "train_df.head()"
   ]
  },
  {
   "cell_type": "code",
   "execution_count": 5,
   "metadata": {},
   "outputs": [],
   "source": [
    "# train_df['img_id'] = train_df.Image_Label.apply(lambda x: x.split('_')[0])\n",
    "# train_df['label'] = train_df.Image_Label.apply(lambda x: x.split('_')[-1])\n",
    "\n",
    "# labels = ['Fish', 'Flower', 'Gravel', 'Sugar']\n",
    "# classes = {}\n",
    "\n",
    "# for label in labels:\n",
    "#     df = train_df[train_df.label == label].dropna()\n",
    "#     classes[label] = df.img_id.values\n",
    "    \n",
    "# from tqdm import tqdm\n",
    "# img_names = train_df.img_id.unique()\n",
    "# label_strings = {}\n",
    "\n",
    "# for img in tqdm(img_names):\n",
    "#     label_string = ''\n",
    "#     for label in labels:\n",
    "#         if img in classes[label]:\n",
    "#             label_string += f'{label} '\n",
    "#     label_strings[img] = label_string[:-1]\n",
    "    \n",
    "# X = pd.DataFrame(list(label_strings.items()), columns=['img', 'label'])\n",
    "# X.to_csv('../input/train_classes_fastai.csv', index=False)    \n",
    "\n",
    "# from tqdm import tqdm\n",
    "# X = {}\n",
    "# for img in tqdm(train_df.img_id.unique()):\n",
    "#     y = np.zeros(4)\n",
    "#     x = {}\n",
    "#     for i, label in enumerate(labels):\n",
    "#         if img in classes[label]:\n",
    "#             x[label] = 1.\n",
    "#         else:\n",
    "#             x[label] = 0.\n",
    "#         X[img] = x            \n",
    "        \n",
    "# X = pd.DataFrame(X).T       \n",
    "# X.to_csv('../input/train_classes.csv')"
   ]
  },
  {
   "cell_type": "code",
   "execution_count": 6,
   "metadata": {},
   "outputs": [],
   "source": [
    "img_2_ohe_vector = {img:vec for img, vec in zip(train_df['Image'], train_df.iloc[:, 2:].values)}"
   ]
  },
  {
   "cell_type": "code",
   "execution_count": 6,
   "metadata": {},
   "outputs": [],
   "source": [
    "from sklearn.model_selection import train_test_split\n",
    "\n",
    "train_imgs, val_imgs = train_test_split(train_df['Image'].values, \n",
    "                                        test_size=0.2, \n",
    "                                        stratify=train_df['Class'].map(lambda x: str(sorted(list(x)))), \n",
    "                                        random_state=10)"
   ]
  },
  {
   "cell_type": "code",
   "execution_count": 7,
   "metadata": {},
   "outputs": [],
   "source": [
    "# from keras.utils import Sequence\n",
    "# from copy import deepcopy\n",
    "\n",
    "# class DataGenenerator(Sequence):\n",
    "#     def __init__(self, images_list=None, folder_imgs=\"../input/train\", \n",
    "#                  batch_size=32, shuffle=True, augmentation=None,\n",
    "#                  resized_height=224, resized_width=224, num_channels=3):\n",
    "        \n",
    "#         self.batch_size = batch_size\n",
    "#         self.shuffle = shuffle\n",
    "#         self.augmentation = augmentation\n",
    "        \n",
    "#         if images_list is None:\n",
    "#             self.images_list = os.listdir(folder_imgs)\n",
    "#         else:\n",
    "#             self.images_list = deepcopy(images_list)\n",
    "#         self.folder_imgs = folder_imgs\n",
    "#         self.len = len(self.images_list) // self.batch_size\n",
    "#         self.resized_height = resized_height\n",
    "#         self.resized_width = resized_width\n",
    "#         self.num_channels = num_channels\n",
    "#         self.num_classes = 4\n",
    "#         self.is_test = not 'train' in folder_imgs\n",
    "#         if not shuffle and not self.is_test:\n",
    "#             self.labels = [img_2_ohe_vector[img] for img in self.images_list[:self.len*self.batch_size]]\n",
    "\n",
    "#     def __len__(self):\n",
    "#         return self.len\n",
    "    \n",
    "#     def on_epoch_start(self):\n",
    "#         if self.shuffle:\n",
    "#             random.shuffle(self.images_list)\n",
    "\n",
    "#     def __getitem__(self, idx):\n",
    "#         current_batch = self.images_list[idx * self.batch_size: (idx + 1) * self.batch_size]\n",
    "#         X = np.empty((self.batch_size, self.resized_height, self.resized_width, self.num_channels))\n",
    "#         y = np.empty((self.batch_size, self.num_classes))\n",
    "\n",
    "#         for i, image_name in enumerate(current_batch):\n",
    "#             path = os.path.join(self.folder_imgs, image_name)\n",
    "#             img = cv2.resize(cv2.imread(path), (self.resized_height, self.resized_width)).astype(np.float32)\n",
    "#             if not self.augmentation is None:\n",
    "#                 augmented = self.augmentation(image=img)\n",
    "#                 img = augmented['image']\n",
    "#             X[i, :, :, :] = img/255.0\n",
    "#             if not self.is_test:\n",
    "#                 y[i, :] = img_2_ohe_vector[image_name]\n",
    "#         return X, y\n",
    "\n",
    "#     def get_labels(self):\n",
    "#         if self.shuffle:\n",
    "#             images_current = self.images_list[:self.len*self.batch_size]\n",
    "#             labels = [img_2_ohe_vector[img] for img in images_current]\n",
    "#         else:\n",
    "#             labels = self.labels\n",
    "#         return np.array(labels)"
   ]
  },
  {
   "cell_type": "code",
   "execution_count": 8,
   "metadata": {},
   "outputs": [],
   "source": [
    "# f = \"../input/train_images_525/train_images_525\"\n",
    "# data_generator_train = DataGenenerator(train_imgs, folder_imgs=f, augmentation=get_training_augmentation())"
   ]
  },
  {
   "cell_type": "code",
   "execution_count": 9,
   "metadata": {
    "scrolled": true
   },
   "outputs": [],
   "source": [
    "# for x in data_generator_train:\n",
    "#     print(len(x))\n",
    "#     print(x[1].shape)\n",
    "#     print(x[0].shape)\n",
    "#     print(x[1])\n",
    "#     break"
   ]
  },
  {
   "cell_type": "markdown",
   "metadata": {},
   "source": [
    "# Classifier in PyTorch"
   ]
  },
  {
   "cell_type": "code",
   "execution_count": 10,
   "metadata": {},
   "outputs": [],
   "source": [
    "import torch\n",
    "import torch.nn as nn\n",
    "import torch.optim as optim\n",
    "from torch.optim import lr_scheduler\n",
    "import numpy as np\n",
    "import torchvision\n",
    "from torchvision import datasets, models, transforms\n",
    "import matplotlib.pyplot as plt\n",
    "import time\n",
    "import os\n",
    "import copy\n",
    "import pandas as pd\n",
    "import numpy as np\n",
    "import albumentations as albu\n",
    "from tqdm import tqdm_notebook as tqdm\n",
    "from torch.utils.data import TensorDataset, DataLoader,Dataset\n",
    "import cv2\n",
    "\n",
    "plt.ion()\n",
    "device = torch.device(\"cuda:0\" if torch.cuda.is_available() else \"cpu\")"
   ]
  },
  {
   "cell_type": "code",
   "execution_count": 11,
   "metadata": {},
   "outputs": [],
   "source": [
    "def seed_everything(seed):\n",
    "    random.seed(seed)\n",
    "    os.environ[\"PYTHONHASHSEED\"] = str(seed)\n",
    "    np.random.seed(seed)\n",
    "    torch.manual_seed(seed)\n",
    "    torch.cuda.manual_seed(seed)\n",
    "    torch.backends.cudnn.deterministic = True\n",
    "\n",
    "\n",
    "def get_img(fname, folder=\"../input/train_images_525/train_images_525\"):\n",
    "    img = cv2.imread(os.path.join(folder, fname))\n",
    "#     return cv2.cvtColor(img, cv2.COLOR_BGR2RGB)\n",
    "    return img\n",
    "\n",
    "\n",
    "def get_training_augmentation():\n",
    "    train_transform = [\n",
    "        albu.CLAHE(p=1),\n",
    "        albu.HorizontalFlip(),\n",
    "        albu.VerticalFlip(),\n",
    "#         albu.ShiftScaleRotate(scale_limit=0.1, rotate_limit=0, shift_limit=0.1, p=0.3, border_mode=0),\n",
    "#         albu.HueSaturationValue(p=0.5),\n",
    "        albu.GridDistortion(),\n",
    "#         albu.OpticalDistortion(p=0.5, distort_limit=2, shift_limit=0.5),\n",
    "#         albu.Normalize()\n",
    "    ]\n",
    "    return albu.Compose(train_transform)\n",
    "\n",
    "def get_validation_augmentation():\n",
    "    train_transform = [\n",
    "        albu.CLAHE(p=1),\n",
    "#         albu.Normalize()\n",
    "    ]\n",
    "    return albu.Compose(train_transform)\n",
    "\n",
    "class CloudDataset(Dataset):\n",
    "    def __init__(\n",
    "        self,\n",
    "        datatype = \"train\",\n",
    "        img_ids = None,\n",
    "        df = None,\n",
    "        transforms = None, \n",
    "        preprocessing = None,\n",
    "    ):\n",
    "        self.img_ids = img_ids\n",
    "        self.transforms = transforms\n",
    "        self.preprocessing = preprocessing\n",
    "        self.datatype = datatype\n",
    "        self.df = df\n",
    "    \n",
    "    \n",
    "    def __getitem__(self, idx):\n",
    "        image_name = self.img_ids[idx]\n",
    "        cols = ['Fish', 'Flower', 'Gravel', 'Sugar']\n",
    "#         label = self.df[self.df.img==image_name][cols].values        \n",
    "        \n",
    "        if self.datatype == 'test':\n",
    "            #something\n",
    "            return img, label   \n",
    "                        \n",
    "        img = get_img(image_name)\n",
    "        augmented = self.transforms(image=img)\n",
    "        img = augmented[\"image\"]\n",
    "        \n",
    "        if self.preprocessing:\n",
    "            pp = self.preprocessing(image=img)\n",
    "            img = pp['image']\n",
    "#         label.to(dtype=torch.float32)\n",
    "\n",
    "        label = img_2_ohe_vector[image_name]        \n",
    "        label = torch.tensor(label, dtype=torch.float32, device=device).squeeze()\n",
    "        img = torch.Tensor(img.transpose(2, 0, 1)).type(torch.float32)\n",
    "        return img/255.0, label\n",
    "\n",
    "    def __len__(self):\n",
    "        return len(self.img_ids)"
   ]
  },
  {
   "cell_type": "code",
   "execution_count": 1,
   "metadata": {},
   "outputs": [
    {
     "ename": "NameError",
     "evalue": "name 'pd' is not defined",
     "output_type": "error",
     "traceback": [
      "\u001b[0;31m---------------------------------------------------------------------------\u001b[0m",
      "\u001b[0;31mNameError\u001b[0m                                 Traceback (most recent call last)",
      "\u001b[0;32m<ipython-input-1-746eb87687c5>\u001b[0m in \u001b[0;36m<module>\u001b[0;34m\u001b[0m\n\u001b[0;32m----> 1\u001b[0;31m \u001b[0mdf\u001b[0m \u001b[0;34m=\u001b[0m \u001b[0mpd\u001b[0m\u001b[0;34m.\u001b[0m\u001b[0mread_csv\u001b[0m\u001b[0;34m(\u001b[0m\u001b[0;34m'../input/train_classes.csv'\u001b[0m\u001b[0;34m)\u001b[0m\u001b[0;34m\u001b[0m\u001b[0;34m\u001b[0m\u001b[0m\n\u001b[0m\u001b[1;32m      2\u001b[0m \u001b[0mdf\u001b[0m \u001b[0;34m=\u001b[0m \u001b[0mdf\u001b[0m\u001b[0;34m.\u001b[0m\u001b[0mrename\u001b[0m\u001b[0;34m(\u001b[0m\u001b[0mcolumns\u001b[0m\u001b[0;34m=\u001b[0m\u001b[0;34m{\u001b[0m\u001b[0;34m'Unnamed: 0'\u001b[0m\u001b[0;34m:\u001b[0m\u001b[0;34m'img'\u001b[0m\u001b[0;34m}\u001b[0m\u001b[0;34m)\u001b[0m\u001b[0;34m\u001b[0m\u001b[0;34m\u001b[0m\u001b[0m\n\u001b[1;32m      3\u001b[0m \u001b[0mids\u001b[0m \u001b[0;34m=\u001b[0m \u001b[0mdf\u001b[0m\u001b[0;34m.\u001b[0m\u001b[0mimg\u001b[0m\u001b[0;34m.\u001b[0m\u001b[0mvalues\u001b[0m\u001b[0;34m\u001b[0m\u001b[0;34m\u001b[0m\u001b[0m\n\u001b[1;32m      4\u001b[0m \u001b[0;34m\u001b[0m\u001b[0m\n\u001b[1;32m      5\u001b[0m \u001b[0mtrain_ids\u001b[0m\u001b[0;34m,\u001b[0m \u001b[0mvalid_ids\u001b[0m \u001b[0;34m=\u001b[0m \u001b[0mtrain_test_split\u001b[0m\u001b[0;34m(\u001b[0m\u001b[0mids\u001b[0m\u001b[0;34m,\u001b[0m \u001b[0mtest_size\u001b[0m\u001b[0;34m=\u001b[0m\u001b[0;36m0.2\u001b[0m\u001b[0;34m)\u001b[0m\u001b[0;34m\u001b[0m\u001b[0;34m\u001b[0m\u001b[0m\n",
      "\u001b[0;31mNameError\u001b[0m: name 'pd' is not defined"
     ]
    }
   ],
   "source": [
    "df = pd.read_csv('../input/train_classes.csv')\n",
    "df = df.rename(columns={'Unnamed: 0':'img'})\n",
    "ids = df.img.values\n",
    "\n",
    "train_ids, valid_ids = train_test_split(ids, test_size=0.2)\n",
    "print(len(train_ids))\n",
    "print(len(valid_ids))"
   ]
  },
  {
   "cell_type": "code",
   "execution_count": 13,
   "metadata": {},
   "outputs": [],
   "source": [
    "num_workers = 0\n",
    "# bs = 16\n",
    "bs = 8\n",
    "train_dataset = CloudDataset(datatype='train', \n",
    "                             img_ids=train_ids, df = df,\n",
    "                             transforms = get_training_augmentation())\n",
    "train_loader = DataLoader(train_dataset, batch_size=bs, \n",
    "                          shuffle=True, num_workers=num_workers)\n",
    "\n",
    "val_dataset = CloudDataset(datatype='val', \n",
    "                             img_ids=valid_ids, df = df,\n",
    "                             transforms = get_validation_augmentation())\n",
    "val_loader = DataLoader(val_dataset, batch_size=bs, \n",
    "                          shuffle=True, num_workers=num_workers)"
   ]
  },
  {
   "cell_type": "code",
   "execution_count": 14,
   "metadata": {},
   "outputs": [
    {
     "name": "stdout",
     "output_type": "stream",
     "text": [
      "torch.Size([3, 350, 525])\n",
      "torch.float32\n",
      "tensor([1., 0., 1., 1.], device='cuda:0')\n",
      "torch.float32\n"
     ]
    },
    {
     "data": {
      "image/png": "[encoded data removed]",
      "text/plain": [
       "<Figure size 432x288 with 1 Axes>"
      ]
     },
     "metadata": {
      "needs_background": "light"
     },
     "output_type": "display_data"
    }
   ],
   "source": [
    "# Test dataloader\n",
    "for x in train_loader:\n",
    "    img = x[0][1]\n",
    "    label = x[1][1]\n",
    "    print(img.shape)\n",
    "    print(img.dtype)\n",
    "    plt.imshow(np.transpose(img, (1, 2, 0)))\n",
    "    print(label)\n",
    "    print(label.dtype)\n",
    "    break"
   ]
  },
  {
   "cell_type": "markdown",
   "metadata": {},
   "source": [
    "# Define model"
   ]
  },
  {
   "cell_type": "code",
   "execution_count": 15,
   "metadata": {},
   "outputs": [],
   "source": [
    "# import torch.nn.functional as F\n",
    "\n",
    "# def get_model(num_classes, pretrained=True, freeze=True):\n",
    "#     model = models.inception_v3(pretrained=pretrained)\n",
    "#     if freeze:\n",
    "#         for param in model.parameters():\n",
    "#             param.requires_grad = False\n",
    "#     else:\n",
    "#         for param in model.parameters():\n",
    "#             param.requires_grad = True\n",
    "            \n",
    "#     in_ftrs = model.fc.in_features\n",
    "#     model.fc = nn.Linear(in_ftrs, num_classes)\n",
    "    \n",
    "#     in_ftrs = model.AuxLogits.fc.in_features\n",
    "#     model.AuxLogits.fc = nn.Linear(in_ftrs, num_classes)\n",
    "    \n",
    "#     return model\n",
    "\n",
    "from efficientnet_pytorch import EfficientNet\n",
    "def get_model(num_classes, pretrained=True, freeze=True):\n",
    "    model = EfficientNet.from_pretrained('efficientnet-b2', num_classes=num_classes) \n",
    "\n",
    "    if freeze:\n",
    "        for i, param in list(model.named_parameters())[:-10]:\n",
    "            param.requires_grad = False\n",
    "    \n",
    "    else:\n",
    "        for param in model.parameters():\n",
    "            param.requires_grad = True\n",
    "            \n",
    "    return model"
   ]
  },
  {
   "cell_type": "code",
   "execution_count": 16,
   "metadata": {},
   "outputs": [],
   "source": [
    "# class CloudModel(nn.Module):\n",
    "#     def __init__(self, n_classes=4, pretrained=True, freeze=True):\n",
    "#         super(CloudModel, self).__init__()\n",
    "#         self.inception=get_model(n_classes, pretrained, freeze)\n",
    "#         self.sig = nn.Sigmoid()\n",
    "        \n",
    "#     def forward(self, x):\n",
    "#         x = self.inception(x)\n",
    "#         if self.training:\n",
    "#             return x[0], x[1]\n",
    "# #             return self.sig(x[0]), self.sig(x[1])\n",
    "#         else:\n",
    "#             return x\n",
    "# #             return self.sig(x)\n",
    "    \n",
    "#     def unfreeze(self):\n",
    "#         for param in model.parameters():\n",
    "#             param.requires_grad = True\n",
    "            \n",
    "class CloudModel(nn.Module):\n",
    "    def __init__(self, n_classes=4, pretrained=True, freeze=True):\n",
    "        super(CloudModel, self).__init__()\n",
    "        self.model=get_model(n_classes)\n",
    "        self.sig = nn.Sigmoid()\n",
    "        \n",
    "    def forward(self, x):\n",
    "        x = self.model(x)\n",
    "        return self.sig(x)\n",
    "    \n",
    "    def unfreeze(self):\n",
    "        for param in self.model.parameters():\n",
    "            param.requires_grad = True            "
   ]
  },
  {
   "cell_type": "code",
   "execution_count": 17,
   "metadata": {},
   "outputs": [
    {
     "name": "stdout",
     "output_type": "stream",
     "text": [
      "Loaded pretrained weights for efficientnet-b2\n"
     ]
    }
   ],
   "source": [
    "nc = 4\n",
    "model = CloudModel(nc).to(device)\n",
    "# model = get_model(nc).to(device)\n",
    "# model.unfreeze()\n",
    "criterion = nn.BCELoss()\n",
    "# criterion = nn.BCEWithLogitsLoss()\n",
    "# criterion = nn.CrossEntropyLoss()\n",
    "optimizer = optim.Adam(model.parameters(), lr=1e-2)\n",
    "scheduler = torch.optim.lr_scheduler.ReduceLROnPlateau(optimizer)"
   ]
  },
  {
   "cell_type": "code",
   "execution_count": 18,
   "metadata": {},
   "outputs": [],
   "source": [
    "from sklearn.metrics import precision_recall_curve, auc\n",
    "\n",
    "def compute_pr_auc(y_true, y_pred, n_classes=4):\n",
    "        y_true = y_true.cpu().detach().numpy()\n",
    "        y_pred = y_pred.cpu().detach().numpy()\n",
    "        pr_auc_mean = 0\n",
    "        for class_i in range(n_classes):\n",
    "            precision, recall, _ = precision_recall_curve(y_true[:, class_i], y_pred[:, class_i])\n",
    "            if np.isnan(np.sum(precision)) or np.isnan(np.sum(recall)):\n",
    "                continue\n",
    "            pr_auc = auc(recall, precision)\n",
    "            pr_auc_mean += pr_auc/n_classes\n",
    "        return pr_auc_mean"
   ]
  },
  {
   "cell_type": "code",
   "execution_count": 19,
   "metadata": {},
   "outputs": [],
   "source": [
    "def train(model, criterion, optimizer, scheduler, num_epochs = 25, unfreeze=False):\n",
    "    if unfreeze:\n",
    "        for param in model.parameters():\n",
    "            param.requires_grad = True\n",
    "    dataloaders = {'train':train_loader, 'val':val_loader}\n",
    "\n",
    "    since = time.time()\n",
    "    val_score_history = []\n",
    "    val_auc_history = []\n",
    "\n",
    "    best_model_wts = copy.deepcopy(model.state_dict())\n",
    "    best_epoch_loss = -100000\n",
    "\n",
    "    for epoch in tqdm(range(num_epochs)):\n",
    "            print(f\"Epoch {epoch}/{num_epochs-1}\")\n",
    "            print('-' * 10)\n",
    "\n",
    "            for phase in ['train', 'val']:\n",
    "#             for phase in ['val', 'train']:\n",
    "                if phase == 'train':\n",
    "                    model.train()  # Set model to training mode\n",
    "                else:\n",
    "                    model.eval()   # Set model to evaluate mode\n",
    "\n",
    "                running_loss = 0.0\n",
    "                running_pr_auc = 0.0\n",
    "\n",
    "\n",
    "                for inputs, labels in tqdm(dataloaders[phase]):\n",
    "                    inputs = inputs.to(device)\n",
    "                    labels = labels.to(device)\n",
    "\n",
    "                    optimizer.zero_grad()\n",
    "\n",
    "                    with torch.set_grad_enabled(phase == 'train'):\n",
    "                        outputs = model(inputs)\n",
    "                        loss = criterion(outputs, labels)\n",
    "                        pr_auc = compute_pr_auc(labels, outputs) \n",
    "                        \n",
    "                        if phase == 'train':\n",
    "                            loss.backward()\n",
    "                            optimizer.step()\n",
    "                            \n",
    "                    # statistics\n",
    "                    running_loss += loss.item() * inputs.size(0)\n",
    "                    running_pr_auc += pr_auc * inputs.size(0)\n",
    "#                     scheduler.step(running_loss)\n",
    "\n",
    "                epoch_loss = running_loss / len(dataloaders[phase].dataset)\n",
    "                epoch_pr_auc = running_pr_auc / len(dataloaders[phase].dataset)\n",
    "\n",
    "                print('{} Loss: {:.4f}'.format(phase, epoch_loss))\n",
    "                print(f\"{phase}: AUC: {epoch_pr_auc}\")\n",
    "                \n",
    "                if phase == 'val':\n",
    "                    if epoch_loss < best_epoch_loss:\n",
    "                        best_epoch_loss = epoch_loss\n",
    "                        best_model_wts = copy.deepcopy(model.state_dict())\n",
    "                    val_score_history.append(epoch_loss)\n",
    "                    val_auc_history.append(epoch_pr_auc)\n",
    "\n",
    "\n",
    "    time_elapsed = time.time() - since\n",
    "    print('Training complete in {:.0f}m {:.0f}s'.format(time_elapsed // 60, time_elapsed % 60))\n",
    "\n",
    "    model.load_state_dict(best_model_wts)\n",
    "    return model, val_score_history, val_auc_history"
   ]
  },
  {
   "cell_type": "code",
   "execution_count": 20,
   "metadata": {},
   "outputs": [],
   "source": [
    "def train(model, criterion, optimizer, scheduler, num_epochs = 25, unfreeze=False):\n",
    "\n",
    "    val_auc_hist = -10000\n",
    "    best_model_wts = copy.deepcopy(model.state_dict())\n",
    "    best_epoch = -1\n",
    "    \n",
    "    for epoch in tqdm(range(num_epochs)):\n",
    "        print(f\"Epoch {epoch}/{num_epochs-1}\")\n",
    "        print('-' * 10)\n",
    "        \n",
    "        running_loss = 0.\n",
    "        running_pr_auc = 0.    \n",
    "        for inputs, labels in tqdm(train_loader):\n",
    "                inputs = inputs.to(device)\n",
    "                labels = labels.to(labels)\n",
    "                optimizer.zero_grad()\n",
    "                outputs = model(inputs)\n",
    "                loss = criterion(outputs, labels)\n",
    "                loss.backward()\n",
    "                optimizer.step()\n",
    "                with torch.no_grad():\n",
    "                    pr_auc = compute_pr_auc(labels, outputs)\n",
    "                    running_loss += loss.item()/len(train_loader)\n",
    "                    running_pr_auc += pr_auc/len(train_loader)\n",
    "        print(f\"TRAIN>>> Loss: {running_loss} | AUC: {running_pr_auc}\")         \n",
    "        \n",
    "#         with torch.no_grad():\n",
    "#             running_loss = 0.\n",
    "#             running_pr_auc = 0.\n",
    "#             for inputs, labels in tqdm(val_loader):\n",
    "#                     inputs = inputs.to(device)\n",
    "#                     labels = labels.to(labels)\n",
    "#                     outputs = model(inputs)\n",
    "#                     running_loss += criterion(outputs, labels).item()/len(val_loader)\n",
    "#                     running_pr_auc += compute_pr_auc(labels, outputs)/len(val_loader)\n",
    "#             if running_pr_auc > val_auc_hist:\n",
    "#                 val_auc_hist = running_pr_auc\n",
    "#                 best_model_wts = copy.deepcopy(model.state_dict())\n",
    "#                 best_epoch = epoch\n",
    "#             print(f\"VAL>>> Loss: {running_loss} | AUC: {running_pr_auc}\")         \n",
    "\n",
    "#     model.load_state_dict(best_model_wts)\n",
    "#     print(f\"best_epoch was: {best_epoch}\")\n",
    "    return model"
   ]
  },
  {
   "cell_type": "code",
   "execution_count": 21,
   "metadata": {},
   "outputs": [
    {
     "data": {
      "application/vnd.jupyter.widget-view+json": {
       "model_id": "19ced3d2d892409797bf1fd2688afffc",
       "version_major": 2,
       "version_minor": 0
      },
      "text/plain": [
       "HBox(children=(IntProgress(value=0, max=20), HTML(value='')))"
      ]
     },
     "metadata": {},
     "output_type": "display_data"
    },
    {
     "name": "stdout",
     "output_type": "stream",
     "text": [
      "Epoch 0/19\n",
      "----------\n"
     ]
    },
    {
     "data": {
      "application/vnd.jupyter.widget-view+json": {
       "model_id": "bc0109f46fd7479682ecbc1c600ce4cc",
       "version_major": 2,
       "version_minor": 0
      },
      "text/plain": [
       "HBox(children=(IntProgress(value=0, max=555), HTML(value='')))"
      ]
     },
     "metadata": {},
     "output_type": "display_data"
    },
    {
     "name": "stderr",
     "output_type": "stream",
     "text": [
      "/home/timetraveller/.local/lib/python3.7/site-packages/sklearn/metrics/ranking.py:528: RuntimeWarning: invalid value encountered in true_divide\n",
      "  recall = tps / tps[-1]\n"
     ]
    },
    {
     "name": "stdout",
     "output_type": "stream",
     "text": [
      "\n",
      "TRAIN>>> Loss: 0.6269218963008742 | AUC: 0.7758330626544913\n",
      "Epoch 1/19\n",
      "----------\n"
     ]
    },
    {
     "data": {
      "application/vnd.jupyter.widget-view+json": {
       "model_id": "12fed47b702a4b049f1b693067b474b4",
       "version_major": 2,
       "version_minor": 0
      },
      "text/plain": [
       "HBox(children=(IntProgress(value=0, max=555), HTML(value='')))"
      ]
     },
     "metadata": {},
     "output_type": "display_data"
    },
    {
     "name": "stdout",
     "output_type": "stream",
     "text": [
      "\n",
      "TRAIN>>> Loss: 0.592759748997989 | AUC: 0.8020240929705218\n",
      "Epoch 2/19\n",
      "----------\n"
     ]
    },
    {
     "data": {
      "application/vnd.jupyter.widget-view+json": {
       "model_id": "3f5371cc8f58470a946a4242028f6eb2",
       "version_major": 2,
       "version_minor": 0
      },
      "text/plain": [
       "HBox(children=(IntProgress(value=0, max=555), HTML(value='')))"
      ]
     },
     "metadata": {},
     "output_type": "display_data"
    },
    {
     "name": "stdout",
     "output_type": "stream",
     "text": [
      "\n",
      "TRAIN>>> Loss: 0.578571873097806 | AUC: 0.8154758827705252\n",
      "Epoch 3/19\n",
      "----------\n"
     ]
    },
    {
     "data": {
      "application/vnd.jupyter.widget-view+json": {
       "model_id": "0d3fa3f5718446dbaf83cfb6ad4ab222",
       "version_major": 2,
       "version_minor": 0
      },
      "text/plain": [
       "HBox(children=(IntProgress(value=0, max=555), HTML(value='')))"
      ]
     },
     "metadata": {},
     "output_type": "display_data"
    },
    {
     "name": "stdout",
     "output_type": "stream",
     "text": [
      "\n",
      "TRAIN>>> Loss: 0.5700456355606114 | AUC: 0.8171310749525041\n",
      "Epoch 4/19\n",
      "----------\n"
     ]
    },
    {
     "data": {
      "application/vnd.jupyter.widget-view+json": {
       "model_id": "ce23ebd6f3ee49c489276d4d207431f3",
       "version_major": 2,
       "version_minor": 0
      },
      "text/plain": [
       "HBox(children=(IntProgress(value=0, max=555), HTML(value='')))"
      ]
     },
     "metadata": {},
     "output_type": "display_data"
    },
    {
     "name": "stdout",
     "output_type": "stream",
     "text": [
      "\n",
      "TRAIN>>> Loss: 0.5705516877475084 | AUC: 0.8194046904046907\n",
      "Epoch 5/19\n",
      "----------\n"
     ]
    },
    {
     "data": {
      "application/vnd.jupyter.widget-view+json": {
       "model_id": "b4795dbd37f14297878067a8d3543f75",
       "version_major": 2,
       "version_minor": 0
      },
      "text/plain": [
       "HBox(children=(IntProgress(value=0, max=555), HTML(value='')))"
      ]
     },
     "metadata": {},
     "output_type": "display_data"
    },
    {
     "name": "stdout",
     "output_type": "stream",
     "text": [
      "\n",
      "TRAIN>>> Loss: 0.5608603790536656 | AUC: 0.8231584186227051\n",
      "Epoch 6/19\n",
      "----------\n"
     ]
    },
    {
     "data": {
      "application/vnd.jupyter.widget-view+json": {
       "model_id": "476b52dfb1bc4b2683d4027714dda806",
       "version_major": 2,
       "version_minor": 0
      },
      "text/plain": [
       "HBox(children=(IntProgress(value=0, max=555), HTML(value='')))"
      ]
     },
     "metadata": {},
     "output_type": "display_data"
    },
    {
     "name": "stdout",
     "output_type": "stream",
     "text": [
      "\n",
      "TRAIN>>> Loss: 0.5615747148389209 | AUC: 0.8243162154501442\n",
      "Epoch 7/19\n",
      "----------\n"
     ]
    },
    {
     "data": {
      "application/vnd.jupyter.widget-view+json": {
       "model_id": "cccc77fbc65d4c38b78191dfc3a63a10",
       "version_major": 2,
       "version_minor": 0
      },
      "text/plain": [
       "HBox(children=(IntProgress(value=0, max=555), HTML(value='')))"
      ]
     },
     "metadata": {},
     "output_type": "display_data"
    },
    {
     "name": "stdout",
     "output_type": "stream",
     "text": [
      "\n",
      "TRAIN>>> Loss: 0.5541447785523564 | AUC: 0.8260775941758087\n",
      "Epoch 8/19\n",
      "----------\n"
     ]
    },
    {
     "data": {
      "application/vnd.jupyter.widget-view+json": {
       "model_id": "eff5d270dbbe46738e8f384a6241b126",
       "version_major": 2,
       "version_minor": 0
      },
      "text/plain": [
       "HBox(children=(IntProgress(value=0, max=555), HTML(value='')))"
      ]
     },
     "metadata": {},
     "output_type": "display_data"
    },
    {
     "name": "stdout",
     "output_type": "stream",
     "text": [
      "\n",
      "TRAIN>>> Loss: 0.555276492962966 | AUC: 0.832673127208841\n",
      "Epoch 9/19\n",
      "----------\n"
     ]
    },
    {
     "data": {
      "application/vnd.jupyter.widget-view+json": {
       "model_id": "ecd0b70ea78a4b9f9179d2593d33c909",
       "version_major": 2,
       "version_minor": 0
      },
      "text/plain": [
       "HBox(children=(IntProgress(value=0, max=555), HTML(value='')))"
      ]
     },
     "metadata": {},
     "output_type": "display_data"
    },
    {
     "name": "stdout",
     "output_type": "stream",
     "text": [
      "\n",
      "TRAIN>>> Loss: 0.5498812632517759 | AUC: 0.8311023663970095\n",
      "Epoch 10/19\n",
      "----------\n"
     ]
    },
    {
     "data": {
      "application/vnd.jupyter.widget-view+json": {
       "model_id": "f716da53f7c347bbae4ee7d33165f3ff",
       "version_major": 2,
       "version_minor": 0
      },
      "text/plain": [
       "HBox(children=(IntProgress(value=0, max=555), HTML(value='')))"
      ]
     },
     "metadata": {},
     "output_type": "display_data"
    },
    {
     "name": "stdout",
     "output_type": "stream",
     "text": [
      "\n",
      "TRAIN>>> Loss: 0.543962279257474 | AUC: 0.8323730950338092\n",
      "Epoch 11/19\n",
      "----------\n"
     ]
    },
    {
     "data": {
      "application/vnd.jupyter.widget-view+json": {
       "model_id": "c07ee58f66f44d4fbadae4c9bcfad291",
       "version_major": 2,
       "version_minor": 0
      },
      "text/plain": [
       "HBox(children=(IntProgress(value=0, max=555), HTML(value='')))"
      ]
     },
     "metadata": {},
     "output_type": "display_data"
    },
    {
     "name": "stdout",
     "output_type": "stream",
     "text": [
      "\n",
      "TRAIN>>> Loss: 0.541717042874645 | AUC: 0.831053663357234\n",
      "Epoch 12/19\n",
      "----------\n"
     ]
    },
    {
     "data": {
      "application/vnd.jupyter.widget-view+json": {
       "model_id": "8fba03a042bf45bb9fe54576263f285c",
       "version_major": 2,
       "version_minor": 0
      },
      "text/plain": [
       "HBox(children=(IntProgress(value=0, max=555), HTML(value='')))"
      ]
     },
     "metadata": {},
     "output_type": "display_data"
    },
    {
     "name": "stdout",
     "output_type": "stream",
     "text": [
      "\n",
      "TRAIN>>> Loss: 0.5386679624115023 | AUC: 0.8372363932810365\n",
      "Epoch 13/19\n",
      "----------\n"
     ]
    },
    {
     "data": {
      "application/vnd.jupyter.widget-view+json": {
       "model_id": "faf8ad28d50f4801b61b8a447fbf1f07",
       "version_major": 2,
       "version_minor": 0
      },
      "text/plain": [
       "HBox(children=(IntProgress(value=0, max=555), HTML(value='')))"
      ]
     },
     "metadata": {},
     "output_type": "display_data"
    },
    {
     "name": "stdout",
     "output_type": "stream",
     "text": [
      "\n",
      "TRAIN>>> Loss: 0.5326052243108147 | AUC: 0.8391383909419619\n",
      "Epoch 14/19\n",
      "----------\n"
     ]
    },
    {
     "data": {
      "application/vnd.jupyter.widget-view+json": {
       "model_id": "cfac25f2c29041328f51db2dfaf01fb8",
       "version_major": 2,
       "version_minor": 0
      },
      "text/plain": [
       "HBox(children=(IntProgress(value=0, max=555), HTML(value='')))"
      ]
     },
     "metadata": {},
     "output_type": "display_data"
    },
    {
     "name": "stdout",
     "output_type": "stream",
     "text": [
      "\n",
      "TRAIN>>> Loss: 0.5354155681423239 | AUC: 0.8392084725031157\n",
      "Epoch 15/19\n",
      "----------\n"
     ]
    },
    {
     "data": {
      "application/vnd.jupyter.widget-view+json": {
       "model_id": "815bf463597348b6958e339a4d38afca",
       "version_major": 2,
       "version_minor": 0
      },
      "text/plain": [
       "HBox(children=(IntProgress(value=0, max=555), HTML(value='')))"
      ]
     },
     "metadata": {},
     "output_type": "display_data"
    },
    {
     "name": "stdout",
     "output_type": "stream",
     "text": [
      "\n",
      "TRAIN>>> Loss: 0.5236805002431617 | AUC: 0.8475822097607811\n",
      "Epoch 16/19\n",
      "----------\n"
     ]
    },
    {
     "data": {
      "application/vnd.jupyter.widget-view+json": {
       "model_id": "4bc2567f589b4893b4edff3703d488ab",
       "version_major": 2,
       "version_minor": 0
      },
      "text/plain": [
       "HBox(children=(IntProgress(value=0, max=555), HTML(value='')))"
      ]
     },
     "metadata": {},
     "output_type": "display_data"
    },
    {
     "name": "stdout",
     "output_type": "stream",
     "text": [
      "\n",
      "TRAIN>>> Loss: 0.5296488658801932 | AUC: 0.8452704707258272\n",
      "Epoch 17/19\n",
      "----------\n"
     ]
    },
    {
     "data": {
      "application/vnd.jupyter.widget-view+json": {
       "model_id": "970d34950d914e9e98b48cf1ae64cb5a",
       "version_major": 2,
       "version_minor": 0
      },
      "text/plain": [
       "HBox(children=(IntProgress(value=0, max=555), HTML(value='')))"
      ]
     },
     "metadata": {},
     "output_type": "display_data"
    },
    {
     "name": "stdout",
     "output_type": "stream",
     "text": [
      "\n",
      "TRAIN>>> Loss: 0.5192532515203631 | AUC: 0.847495905344119\n",
      "Epoch 18/19\n",
      "----------\n"
     ]
    },
    {
     "data": {
      "application/vnd.jupyter.widget-view+json": {
       "model_id": "c9a4282a7413407e8fa688e02362d4f8",
       "version_major": 2,
       "version_minor": 0
      },
      "text/plain": [
       "HBox(children=(IntProgress(value=0, max=555), HTML(value='')))"
      ]
     },
     "metadata": {},
     "output_type": "display_data"
    },
    {
     "name": "stdout",
     "output_type": "stream",
     "text": [
      "\n",
      "TRAIN>>> Loss: 0.5276492388935775 | AUC: 0.8403941990459839\n",
      "Epoch 19/19\n",
      "----------\n"
     ]
    },
    {
     "data": {
      "application/vnd.jupyter.widget-view+json": {
       "model_id": "118f51d294974a98812381ed43789340",
       "version_major": 2,
       "version_minor": 0
      },
      "text/plain": [
       "HBox(children=(IntProgress(value=0, max=555), HTML(value='')))"
      ]
     },
     "metadata": {},
     "output_type": "display_data"
    },
    {
     "name": "stdout",
     "output_type": "stream",
     "text": [
      "\n",
      "TRAIN>>> Loss: 0.5214451366716677 | AUC: 0.8490626774733917\n",
      "\n"
     ]
    }
   ],
   "source": [
    "import math\n",
    "num_epochs = 20\n",
    "if True:\n",
    "    val_auc_hist = -10000\n",
    "    best_model_wts = copy.deepcopy(model.state_dict())\n",
    "    best_epoch = -1\n",
    "    \n",
    "    for epoch in tqdm(range(num_epochs)):\n",
    "        print(f\"Epoch {epoch}/{num_epochs-1}\")\n",
    "        print('-' * 10)\n",
    "        \n",
    "        running_loss = 0.\n",
    "        running_pr_auc = 0.    \n",
    "        for inputs, labels in tqdm(train_loader):\n",
    "                inputs = inputs.to(device)\n",
    "                labels = labels.to(labels)\n",
    "                optimizer.zero_grad()\n",
    "                outputs = model(inputs)\n",
    "                loss = criterion(outputs, labels)\n",
    "                loss.backward()\n",
    "                optimizer.step()\n",
    "                with torch.no_grad():\n",
    "                    pr_auc = compute_pr_auc(labels, outputs)\n",
    "                    running_loss += loss.item()/len(train_loader)\n",
    "                    running_pr_auc += pr_auc/len(train_loader)\n",
    "        print(f\"TRAIN>>> Loss: {running_loss} | AUC: {running_pr_auc}\")       "
   ]
  },
  {
   "cell_type": "code",
   "execution_count": 22,
   "metadata": {},
   "outputs": [
    {
     "data": {
      "application/vnd.jupyter.widget-view+json": {
       "model_id": "c3ef7fd906db4c7bb902e1cc768d3a7f",
       "version_major": 2,
       "version_minor": 0
      },
      "text/plain": [
       "HBox(children=(IntProgress(value=0, max=20), HTML(value='')))"
      ]
     },
     "metadata": {},
     "output_type": "display_data"
    },
    {
     "name": "stdout",
     "output_type": "stream",
     "text": [
      "Epoch 0/19\n",
      "----------\n"
     ]
    },
    {
     "data": {
      "application/vnd.jupyter.widget-view+json": {
       "model_id": "f165a0062ba64614bc31694a32e2f3f5",
       "version_major": 2,
       "version_minor": 0
      },
      "text/plain": [
       "HBox(children=(IntProgress(value=0, max=555), HTML(value='')))"
      ]
     },
     "metadata": {},
     "output_type": "display_data"
    },
    {
     "name": "stdout",
     "output_type": "stream",
     "text": [
      "\n",
      "TRAIN>>> Loss: 0.5880440601357473 | AUC: 0.8032427593409728\n",
      "Epoch 1/19\n",
      "----------\n"
     ]
    },
    {
     "data": {
      "application/vnd.jupyter.widget-view+json": {
       "model_id": "e2c6f51285d84f198761fd6a54c3206d",
       "version_major": 2,
       "version_minor": 0
      },
      "text/plain": [
       "HBox(children=(IntProgress(value=0, max=555), HTML(value='')))"
      ]
     },
     "metadata": {},
     "output_type": "display_data"
    },
    {
     "name": "stdout",
     "output_type": "stream",
     "text": [
      "\n",
      "TRAIN>>> Loss: 0.546618848126214 | AUC: 0.8238792095667095\n",
      "Epoch 2/19\n",
      "----------\n"
     ]
    },
    {
     "data": {
      "application/vnd.jupyter.widget-view+json": {
       "model_id": "0b56c915d37a4980b57f78f67d239854",
       "version_major": 2,
       "version_minor": 0
      },
      "text/plain": [
       "HBox(children=(IntProgress(value=0, max=555), HTML(value='')))"
      ]
     },
     "metadata": {},
     "output_type": "display_data"
    },
    {
     "name": "stdout",
     "output_type": "stream",
     "text": [
      "\n",
      "TRAIN>>> Loss: 0.5327957064181836 | AUC: 0.8355235426753286\n",
      "Epoch 3/19\n",
      "----------\n"
     ]
    },
    {
     "data": {
      "application/vnd.jupyter.widget-view+json": {
       "model_id": "3133e5b9ec084def846aede658f7a0e6",
       "version_major": 2,
       "version_minor": 0
      },
      "text/plain": [
       "HBox(children=(IntProgress(value=0, max=555), HTML(value='')))"
      ]
     },
     "metadata": {},
     "output_type": "display_data"
    },
    {
     "name": "stdout",
     "output_type": "stream",
     "text": [
      "\n",
      "TRAIN>>> Loss: 0.5231512905778115 | AUC: 0.8473450644522074\n",
      "Epoch 4/19\n",
      "----------\n"
     ]
    },
    {
     "data": {
      "application/vnd.jupyter.widget-view+json": {
       "model_id": "e0aa8338e33c49c2b7e3368f90a64723",
       "version_major": 2,
       "version_minor": 0
      },
      "text/plain": [
       "HBox(children=(IntProgress(value=0, max=555), HTML(value='')))"
      ]
     },
     "metadata": {},
     "output_type": "display_data"
    },
    {
     "name": "stdout",
     "output_type": "stream",
     "text": [
      "\n",
      "TRAIN>>> Loss: 0.515224374575658 | AUC: 0.8453114198382055\n",
      "Epoch 5/19\n",
      "----------\n"
     ]
    },
    {
     "data": {
      "application/vnd.jupyter.widget-view+json": {
       "model_id": "399818b6d1f04df18b730850e5e61d3b",
       "version_major": 2,
       "version_minor": 0
      },
      "text/plain": [
       "HBox(children=(IntProgress(value=0, max=555), HTML(value='')))"
      ]
     },
     "metadata": {},
     "output_type": "display_data"
    },
    {
     "name": "stdout",
     "output_type": "stream",
     "text": [
      "\n",
      "TRAIN>>> Loss: 0.5103682782198934 | AUC: 0.846658514381729\n",
      "Epoch 6/19\n",
      "----------\n"
     ]
    },
    {
     "data": {
      "application/vnd.jupyter.widget-view+json": {
       "model_id": "5815bdd51b2841d8b4c0aafb1f7ba4b2",
       "version_major": 2,
       "version_minor": 0
      },
      "text/plain": [
       "HBox(children=(IntProgress(value=0, max=555), HTML(value='')))"
      ]
     },
     "metadata": {},
     "output_type": "display_data"
    },
    {
     "name": "stdout",
     "output_type": "stream",
     "text": [
      "\n",
      "TRAIN>>> Loss: 0.506490929062302 | AUC: 0.8474453930971789\n",
      "Epoch 7/19\n",
      "----------\n"
     ]
    },
    {
     "data": {
      "application/vnd.jupyter.widget-view+json": {
       "model_id": "ccde23df2d854b11b7993399f66ff3ed",
       "version_major": 2,
       "version_minor": 0
      },
      "text/plain": [
       "HBox(children=(IntProgress(value=0, max=555), HTML(value='')))"
      ]
     },
     "metadata": {},
     "output_type": "display_data"
    },
    {
     "name": "stdout",
     "output_type": "stream",
     "text": [
      "\n",
      "TRAIN>>> Loss: 0.5001941377515198 | AUC: 0.8598060471185467\n",
      "Epoch 8/19\n",
      "----------\n"
     ]
    },
    {
     "data": {
      "application/vnd.jupyter.widget-view+json": {
       "model_id": "acf44636882c4a018a381f21e0387b1c",
       "version_major": 2,
       "version_minor": 0
      },
      "text/plain": [
       "HBox(children=(IntProgress(value=0, max=555), HTML(value='')))"
      ]
     },
     "metadata": {},
     "output_type": "display_data"
    },
    {
     "name": "stdout",
     "output_type": "stream",
     "text": [
      "\n",
      "TRAIN>>> Loss: 0.4999747657024109 | AUC: 0.8586972814651379\n",
      "Epoch 9/19\n",
      "----------\n"
     ]
    },
    {
     "data": {
      "application/vnd.jupyter.widget-view+json": {
       "model_id": "d65118fa66fc40228ededbd87c85a9f1",
       "version_major": 2,
       "version_minor": 0
      },
      "text/plain": [
       "HBox(children=(IntProgress(value=0, max=555), HTML(value='')))"
      ]
     },
     "metadata": {},
     "output_type": "display_data"
    },
    {
     "name": "stdout",
     "output_type": "stream",
     "text": [
      "\n",
      "TRAIN>>> Loss: 0.4919019266560275 | AUC: 0.8576304314518595\n",
      "Epoch 10/19\n",
      "----------\n"
     ]
    },
    {
     "data": {
      "application/vnd.jupyter.widget-view+json": {
       "model_id": "02410593399a4b6292708c573189ec47",
       "version_major": 2,
       "version_minor": 0
      },
      "text/plain": [
       "HBox(children=(IntProgress(value=0, max=555), HTML(value='')))"
      ]
     },
     "metadata": {},
     "output_type": "display_data"
    },
    {
     "name": "stdout",
     "output_type": "stream",
     "text": [
      "\n",
      "TRAIN>>> Loss: 0.48984313687762693 | AUC: 0.8599088693285118\n",
      "Epoch 11/19\n",
      "----------\n"
     ]
    },
    {
     "data": {
      "application/vnd.jupyter.widget-view+json": {
       "model_id": "0e8e4f8c94da42048d32e55ba06c9cd6",
       "version_major": 2,
       "version_minor": 0
      },
      "text/plain": [
       "HBox(children=(IntProgress(value=0, max=555), HTML(value='')))"
      ]
     },
     "metadata": {},
     "output_type": "display_data"
    },
    {
     "name": "stdout",
     "output_type": "stream",
     "text": [
      "\n",
      "TRAIN>>> Loss: 0.4856979015174216 | AUC: 0.8615125559232705\n",
      "Epoch 12/19\n",
      "----------\n"
     ]
    },
    {
     "data": {
      "application/vnd.jupyter.widget-view+json": {
       "model_id": "1c188cdff33f4dfd839556c87a19219d",
       "version_major": 2,
       "version_minor": 0
      },
      "text/plain": [
       "HBox(children=(IntProgress(value=0, max=555), HTML(value='')))"
      ]
     },
     "metadata": {},
     "output_type": "display_data"
    },
    {
     "name": "stdout",
     "output_type": "stream",
     "text": [
      "\n",
      "TRAIN>>> Loss: 0.47924052020450975 | AUC: 0.8699002484627478\n",
      "Epoch 13/19\n",
      "----------\n"
     ]
    },
    {
     "data": {
      "application/vnd.jupyter.widget-view+json": {
       "model_id": "23a11ef4b29c48b495f503e9a600c495",
       "version_major": 2,
       "version_minor": 0
      },
      "text/plain": [
       "HBox(children=(IntProgress(value=0, max=555), HTML(value='')))"
      ]
     },
     "metadata": {},
     "output_type": "display_data"
    },
    {
     "name": "stdout",
     "output_type": "stream",
     "text": [
      "\n",
      "TRAIN>>> Loss: 0.4746876240850566 | AUC: 0.8714160525321246\n",
      "Epoch 14/19\n",
      "----------\n"
     ]
    },
    {
     "data": {
      "application/vnd.jupyter.widget-view+json": {
       "model_id": "e2eb6c71ba154d8494b797f0cb77b382",
       "version_major": 2,
       "version_minor": 0
      },
      "text/plain": [
       "HBox(children=(IntProgress(value=0, max=555), HTML(value='')))"
      ]
     },
     "metadata": {},
     "output_type": "display_data"
    },
    {
     "name": "stdout",
     "output_type": "stream",
     "text": [
      "\n",
      "TRAIN>>> Loss: 0.4687363759891408 | AUC: 0.8737647162468578\n",
      "Epoch 15/19\n",
      "----------\n"
     ]
    },
    {
     "data": {
      "application/vnd.jupyter.widget-view+json": {
       "model_id": "fada2df5eadc468086b975d75663aae2",
       "version_major": 2,
       "version_minor": 0
      },
      "text/plain": [
       "HBox(children=(IntProgress(value=0, max=555), HTML(value='')))"
      ]
     },
     "metadata": {},
     "output_type": "display_data"
    },
    {
     "name": "stdout",
     "output_type": "stream",
     "text": [
      "\n",
      "TRAIN>>> Loss: 0.4661355986251483 | AUC: 0.8724234464055892\n",
      "Epoch 16/19\n",
      "----------\n"
     ]
    },
    {
     "data": {
      "application/vnd.jupyter.widget-view+json": {
       "model_id": "323b54d533dc47b589f291b7d0507462",
       "version_major": 2,
       "version_minor": 0
      },
      "text/plain": [
       "HBox(children=(IntProgress(value=0, max=555), HTML(value='')))"
      ]
     },
     "metadata": {},
     "output_type": "display_data"
    },
    {
     "name": "stdout",
     "output_type": "stream",
     "text": [
      "\n",
      "TRAIN>>> Loss: 0.46352812685408024 | AUC: 0.8742500229821665\n",
      "Epoch 17/19\n",
      "----------\n"
     ]
    },
    {
     "data": {
      "application/vnd.jupyter.widget-view+json": {
       "model_id": "b3e27cbec6c6466d9f310a7795b32c82",
       "version_major": 2,
       "version_minor": 0
      },
      "text/plain": [
       "HBox(children=(IntProgress(value=0, max=555), HTML(value='')))"
      ]
     },
     "metadata": {},
     "output_type": "display_data"
    },
    {
     "name": "stdout",
     "output_type": "stream",
     "text": [
      "\n",
      "TRAIN>>> Loss: 0.4612935381161203 | AUC: 0.878566661048803\n",
      "Epoch 18/19\n",
      "----------\n"
     ]
    },
    {
     "data": {
      "application/vnd.jupyter.widget-view+json": {
       "model_id": "c5df8b54d29f40de9d4790d27b255b86",
       "version_major": 2,
       "version_minor": 0
      },
      "text/plain": [
       "HBox(children=(IntProgress(value=0, max=555), HTML(value='')))"
      ]
     },
     "metadata": {},
     "output_type": "display_data"
    },
    {
     "name": "stdout",
     "output_type": "stream",
     "text": [
      "\n",
      "TRAIN>>> Loss: 0.45390486580294487 | AUC: 0.8804929891626312\n",
      "Epoch 19/19\n",
      "----------\n"
     ]
    },
    {
     "data": {
      "application/vnd.jupyter.widget-view+json": {
       "model_id": "d83982d09c014801a43a9b90603d451a",
       "version_major": 2,
       "version_minor": 0
      },
      "text/plain": [
       "HBox(children=(IntProgress(value=0, max=555), HTML(value='')))"
      ]
     },
     "metadata": {},
     "output_type": "display_data"
    },
    {
     "name": "stdout",
     "output_type": "stream",
     "text": [
      "\n",
      "TRAIN>>> Loss: 0.44567627031523915 | AUC: 0.8855303862535995\n",
      "\n"
     ]
    }
   ],
   "source": [
    "optimizer = optim.Adam(model.parameters(), lr=1e-3)\n",
    "model.unfreeze()\n",
    "num_epochs = 20\n",
    "if True:\n",
    "    val_auc_hist = -10000\n",
    "    best_model_wts = copy.deepcopy(model.state_dict())\n",
    "    best_epoch = -1\n",
    "    \n",
    "    for epoch in tqdm(range(num_epochs)):\n",
    "        print(f\"Epoch {epoch}/{num_epochs-1}\")\n",
    "        print('-' * 10)\n",
    "        \n",
    "        running_loss = 0.\n",
    "        running_pr_auc = 0.    \n",
    "        for inputs, labels in tqdm(train_loader):\n",
    "                inputs = inputs.to(device)\n",
    "                labels = labels.to(labels)\n",
    "                optimizer.zero_grad()\n",
    "                outputs = model(inputs)\n",
    "                loss = criterion(outputs, labels)\n",
    "                loss.backward()\n",
    "                optimizer.step()\n",
    "                with torch.no_grad():\n",
    "                    pr_auc = compute_pr_auc(labels, outputs)\n",
    "                    running_loss += loss.item()/len(train_loader)\n",
    "                    running_pr_auc += pr_auc/len(train_loader)\n",
    "        print(f\"TRAIN>>> Loss: {running_loss} | AUC: {running_pr_auc}\")       "
   ]
  },
  {
   "cell_type": "code",
   "execution_count": 25,
   "metadata": {},
   "outputs": [
    {
     "data": {
      "application/vnd.jupyter.widget-view+json": {
       "model_id": "d9a1d17f8c874b07880572cd5bde059c",
       "version_major": 2,
       "version_minor": 0
      },
      "text/plain": [
       "HBox(children=(IntProgress(value=0, max=139), HTML(value='')))"
      ]
     },
     "metadata": {},
     "output_type": "display_data"
    },
    {
     "name": "stdout",
     "output_type": "stream",
     "text": [
      "\n",
      "VAL>>> Loss: 0.5350948630048217 | AUC: 0.8350232925904173\n"
     ]
    }
   ],
   "source": [
    "if True:\n",
    "    with torch.no_grad():\n",
    "        running_loss = 0.\n",
    "        running_pr_auc = 0.\n",
    "        for inputs, labels in tqdm(val_loader):\n",
    "                inputs = inputs.to(device)\n",
    "                labels = labels.to(labels)\n",
    "                outputs = model(inputs)\n",
    "                loss = criterion(outputs, labels)\n",
    "                pr_auc = compute_pr_auc(labels, outputs)\n",
    "                running_loss += loss.item()/len(val_loader)\n",
    "                running_pr_auc += pr_auc/len(val_loader)\n",
    "        print(f\"VAL>>> Loss: {running_loss} | AUC: {running_pr_auc}\")       "
   ]
  },
  {
   "cell_type": "code",
   "execution_count": null,
   "metadata": {},
   "outputs": [],
   "source": [
    "# model = train(model, criterion, optimizer, scheduler, num_epochs = 10, unfreeze=False)"
   ]
  },
  {
   "cell_type": "code",
   "execution_count": null,
   "metadata": {},
   "outputs": [],
   "source": [
    "PATH = \"../models/classification/freezed.pth\"\n",
    "torch.save(model.state_dict(), PATH)"
   ]
  },
  {
   "cell_type": "code",
   "execution_count": null,
   "metadata": {},
   "outputs": [],
   "source": [
    "plt.plot(val_score_history)\n",
    "plt.title(\"BCELoss\")\n",
    "plt.show()"
   ]
  },
  {
   "cell_type": "code",
   "execution_count": null,
   "metadata": {},
   "outputs": [],
   "source": [
    "plt.plot(val_auc_history)\n",
    "plt.title(\"AUC Score\")\n",
    "plt.show()"
   ]
  },
  {
   "cell_type": "code",
   "execution_count": null,
   "metadata": {},
   "outputs": [],
   "source": [
    "model, val_score_history = train(model, criterion, optimizer, scheduler, num_epochs = 10, unfreeze=True)"
   ]
  },
  {
   "cell_type": "code",
   "execution_count": 23,
   "metadata": {},
   "outputs": [],
   "source": [
    "PATH = \"../models/classification/unfreezed.pth\"\n",
    "torch.save(model.state_dict(), PATH)"
   ]
  },
  {
   "cell_type": "code",
   "execution_count": null,
   "metadata": {},
   "outputs": [],
   "source": [
    "plt.plot(val_score_history)\n",
    "plt.title(\"BCELoss\")\n",
    "plt.show()"
   ]
  },
  {
   "cell_type": "code",
   "execution_count": null,
   "metadata": {},
   "outputs": [],
   "source": [
    "plt.plot(val_auc_history)\n",
    "plt.title(\"AUC Score\")\n",
    "plt.show()"
   ]
  },
  {
   "cell_type": "code",
   "execution_count": null,
   "metadata": {},
   "outputs": [],
   "source": []
  }
 ],
 "metadata": {
  "kernelspec": {
   "display_name": "Python 3",
   "language": "python",
   "name": "python3"
  },
  "language_info": {
   "codemirror_mode": {
    "name": "ipython",
    "version": 3
   },
   "file_extension": ".py",
   "mimetype": "text/x-python",
   "name": "python",
   "nbconvert_exporter": "python",
   "pygments_lexer": "ipython3",
   "version": "3.7.3"
  }
 },
 "nbformat": 4,
 "nbformat_minor": 2
}
