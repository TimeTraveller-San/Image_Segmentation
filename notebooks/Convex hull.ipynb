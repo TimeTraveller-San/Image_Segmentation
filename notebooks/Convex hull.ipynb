{
 "cells": [
  {
   "cell_type": "markdown",
   "metadata": {},
   "source": [
    "# Convex hull pp"
   ]
  },
  {
   "cell_type": "code",
   "execution_count": 1,
   "metadata": {},
   "outputs": [],
   "source": [
    "import cv2\n",
    "import os\n",
    "import numpy as np # linear algebra\n",
    "import pandas as pd # data processing, CSV file I/O (e.g. pd.read_csv)\n",
    "import matplotlib.pyplot as plt\n",
    "from tqdm import tqdm_notebook as tqdm"
   ]
  },
  {
   "cell_type": "code",
   "execution_count": 2,
   "metadata": {},
   "outputs": [
    {
     "name": "stdout",
     "output_type": "stream",
     "text": [
      "BCEDiceWithMine_EffNet4_UNet.csv\r\n",
      "BCEDiceWithMine_EffNet4_UNet_WITH_convexHULL.csv\r\n",
      "best.pth\r\n",
      "kaggle-andrew-651-model.pth\r\n",
      "list.pkl\r\n",
      "mean-thresh_raw_submission.csv\r\n",
      "myDiceLoss_GCP_LATEEarlyStop_classifierUsed.csv\r\n",
      "myDiceLoss_GCP_LATEEarlyStop_classifierUsed_with_convex_HULL.csv\r\n",
      "myDiceLoss_GCP_tooEarlyStop_classifierUsed.csv\r\n",
      "public_058.csv\r\n",
      "sub_convex.csv\r\n",
      "submission2.csv\r\n",
      "submission3.csv\r\n",
      "submission.csv\r\n",
      "submission_segmentation_and_classifier.csv\r\n",
      "submission_segmentation_and_classifier_wht_mean_thresh_on_651model.csv\r\n",
      "UnetResnet50.csv\r\n",
      "UnetResnet50_phase1.csv\r\n"
     ]
    }
   ],
   "source": [
    "!ls Data/"
   ]
  },
  {
   "cell_type": "code",
   "execution_count": 3,
   "metadata": {},
   "outputs": [],
   "source": [
    "sub = pd.read_csv('Data/UnetResnet50_phase1.csv') "
   ]
  },
  {
   "cell_type": "markdown",
   "metadata": {},
   "source": [
    "# Helpers"
   ]
  },
  {
   "cell_type": "code",
   "execution_count": 4,
   "metadata": {},
   "outputs": [],
   "source": [
    "# helper functions\n",
    "# credits: https://www.kaggle.com/artgor/segmentation-in-pytorch-using-convenient-tools\n",
    "class_names = ['Fish', 'Flower', 'Sugar', 'Gravel']\n",
    "def rle_decode(mask_rle: str = '', shape = (1400, 2100)):\n",
    "    '''\n",
    "    Decode rle encoded mask.\n",
    "    \n",
    "    :param mask_rle: run-length as string formatted (start length)\n",
    "    :param shape: (height, width) of array to return \n",
    "    Returns numpy array, 1 - mask, 0 - background\n",
    "    '''\n",
    "    s = mask_rle.split()\n",
    "    starts, lengths = [np.asarray(x, dtype=int) for x in (s[0:][::2], s[1:][::2])]\n",
    "    starts -= 1\n",
    "    ends = starts + lengths\n",
    "    img = np.zeros(shape[0] * shape[1], dtype=np.uint8)\n",
    "    for lo, hi in zip(starts, ends):\n",
    "        img[lo:hi] = 1\n",
    "    \n",
    "    return img.reshape(shape, order='F')\n",
    "\n",
    "def mask2rle(img):\n",
    "    '''\n",
    "    Convert mask to rle.\n",
    "    img: numpy array, 1 - mask, 0 - background\n",
    "    Returns run length as string formated\n",
    "    '''\n",
    "    pixels= img.T.flatten()\n",
    "    pixels = np.concatenate([[0], pixels, [0]])\n",
    "    runs = np.where(pixels[1:] != pixels[:-1])[0] + 1\n",
    "    runs[1::2] -= runs[::2]\n",
    "    return ' '.join(str(x) for x in runs)\n",
    "\n",
    "\n",
    "def make_mask(df, image_label, shape = (1400, 2100), cv_shape = (525, 350),debug=False):\n",
    "    \"\"\"\n",
    "    Create mask based on df, image name and shape.\n",
    "    \"\"\"\n",
    "    if debug:\n",
    "        print(shape,cv_shape)\n",
    "    df = df.set_index('Image_Label')\n",
    "    encoded_mask = df.loc[image_label, 'EncodedPixels']\n",
    "#     print('encode: ',encoded_mask[:10])\n",
    "    mask = np.zeros((shape[0], shape[1]), dtype=np.float32)\n",
    "    if encoded_mask is not np.nan:\n",
    "        mask = rle_decode(encoded_mask,shape=shape) # original size\n",
    "            \n",
    "    return cv2.resize(mask, cv_shape)\n",
    "\n",
    "min_size = [10000 ,10000, 10000, 10000]\n",
    "def post_process_minsize(mask, min_size):\n",
    "    \"\"\"\n",
    "    Post processing of each predicted mask, components with lesser number of pixels\n",
    "    than `min_size` are ignored\n",
    "    \"\"\"\n",
    "    \n",
    "    num_component, component = cv2.connectedComponents(mask.astype(np.uint8))\n",
    "    predictions = np.zeros(mask.shape)\n",
    "    num = 0\n",
    "    for c in range(1, num_component):\n",
    "        p = (component == c)\n",
    "        if p.sum() > min_size:\n",
    "            predictions[p] = 1\n",
    "            num += 1\n",
    "    return predictions #, num\n",
    "\n",
    "def show_image(image,figsize=None,title=None):\n",
    "    \n",
    "    if figsize is not None:\n",
    "        fig = plt.figure(figsize=figsize)\n",
    "#     else: # crash!!\n",
    "#         fig = plt.figure()\n",
    "        \n",
    "    if image.ndim == 2:\n",
    "        plt.imshow(image,cmap='gray')\n",
    "    else:\n",
    "        plt.imshow(image)\n",
    "        \n",
    "    if title is not None:\n",
    "        plt.title(title)\n",
    "        \n",
    "def show_Nimages(imgs,scale=1):\n",
    "\n",
    "    N=len(imgs)\n",
    "    fig = plt.figure(figsize=(25/scale, 16/scale))\n",
    "    for i, img in enumerate(imgs):\n",
    "        ax = fig.add_subplot(1, N, i + 1, xticks=[], yticks=[])\n",
    "        show_image(img)\n",
    "    plt.show()\n",
    "\n",
    "def draw_masks(img2,img_mask_list):\n",
    "    \n",
    "    img = img2.copy()\n",
    "    for ii in range(4): # for each of the 4 masks\n",
    "        color_mask = np.zeros(img2.shape)\n",
    "        temp_mask = np.ones([img2.shape[0],img2.shape[1]])*127./255.\n",
    "        temp_mask[img_mask_list[ii] == 0] = 0\n",
    "        if ii < 3: # use different color for each mask\n",
    "            color_mask[:,:,ii] = temp_mask\n",
    "        else:\n",
    "            color_mask[:,:,0],color_mask[:,:,1],color_mask[:,:,2] = temp_mask,temp_mask,temp_mask # broadcasting to 3 channels\n",
    "    \n",
    "        img += color_mask\n",
    "        \n",
    "    return img\n"
   ]
  },
  {
   "cell_type": "code",
   "execution_count": 5,
   "metadata": {},
   "outputs": [],
   "source": [
    "def draw_convex_hull(mask, mode='convex'):\n",
    "    \n",
    "    img = np.zeros(mask.shape)\n",
    "    contours, hier = cv2.findContours(mask, cv2.RETR_TREE, cv2.CHAIN_APPROX_SIMPLE)\n",
    "    \n",
    "    for c in contours:\n",
    "        if mode=='rect': # simple rectangle\n",
    "            x, y, w, h = cv2.boundingRect(c)\n",
    "            cv2.rectangle(img, (x, y), (x+w, y+h), (255, 255, 255), -1)\n",
    "        elif mode=='convex': # minimum convex hull\n",
    "            hull = cv2.convexHull(c)\n",
    "            cv2.drawContours(img, [hull], 0, (255, 255, 255),-1)\n",
    "        elif mode=='approx':\n",
    "            epsilon = 0.02*cv2.arcLength(c,True)\n",
    "            approx = cv2.approxPolyDP(c,epsilon,True)\n",
    "            cv2.drawContours(img, [approx], 0, (255, 255, 255),-1)\n",
    "        else: # minimum area rectangle\n",
    "            rect = cv2.minAreaRect(c)\n",
    "            box = cv2.boxPoints(rect)\n",
    "            box = np.int0(box)\n",
    "            cv2.drawContours(img, [box], 0, (255, 255, 255),-1)\n",
    "    return img/255."
   ]
  },
  {
   "cell_type": "markdown",
   "metadata": {},
   "source": [
    "# Post process"
   ]
  },
  {
   "cell_type": "code",
   "execution_count": 6,
   "metadata": {},
   "outputs": [
    {
     "data": {
      "application/vnd.jupyter.widget-view+json": {
       "model_id": "e3d558a50a7c45038a9db3d7b8d0bc79",
       "version_major": 2,
       "version_minor": 0
      },
      "text/plain": [
       "HBox(children=(IntProgress(value=0, max=3698), HTML(value='')))"
      ]
     },
     "metadata": {},
     "output_type": "display_data"
    },
    {
     "name": "stdout",
     "output_type": "stream",
     "text": [
      "\n"
     ]
    }
   ],
   "source": [
    "mode='convex' # choose from 'rect', 'min', 'convex' and 'approx'\n",
    "model_class_names=['Fish', 'Flower', 'Gravel', 'Sugar']\n",
    "folder_images = \"../input/test_images_525/test_images_525/\"\n",
    "img_label_list = []\n",
    "enc_pixels_list = []\n",
    "test_imgs = os.listdir(folder_images)\n",
    "for test_img_i, test_img in enumerate(tqdm(test_imgs)):\n",
    "    for class_i, class_name in enumerate(model_class_names):\n",
    "        \n",
    "        path = os.path.join(folder_images, test_img)\n",
    "        img = cv2.imread(path).astype(np.float32) # use already-resized ryches' dataset\n",
    "        img = img/255.\n",
    "        img2 = cv2.cvtColor(img, cv2.COLOR_BGR2GRAY)\n",
    "        \n",
    "        img_label_list.append(f'{test_img}_{class_name}')\n",
    "        \n",
    "        mask = make_mask(sub, test_img + '_' + class_name,shape=(350,525))\n",
    "        if True:\n",
    "        #if class_name == 'Flower' or class_name =='Sugar': # you can decide to post-process for some certain classes \n",
    "            mask = draw_convex_hull(mask.astype(np.uint8), mode=mode)\n",
    "        mask[img2<=2/255.] = 0\n",
    "        mask = post_process_minsize(mask, min_size[class_i])\n",
    "        \n",
    "        if mask.sum() == 0:\n",
    "            enc_pixels_list.append(np.nan)\n",
    "        else:\n",
    "            mask = np.where(mask > 0.5, 1.0, 0.0)\n",
    "            enc_pixels_list.append(mask2rle(mask))\n",
    "            "
   ]
  },
  {
   "cell_type": "code",
   "execution_count": 7,
   "metadata": {},
   "outputs": [],
   "source": [
    "submission_df = pd.DataFrame({'Image_Label': img_label_list, 'EncodedPixels': enc_pixels_list})\n",
    "submission_df.to_csv('Data/UnetResnet50_phase2.csv', index=None)"
   ]
  },
  {
   "cell_type": "code",
   "execution_count": null,
   "metadata": {},
   "outputs": [],
   "source": []
  }
 ],
 "metadata": {
  "kernelspec": {
   "display_name": "Python 3",
   "language": "python",
   "name": "python3"
  },
  "language_info": {
   "codemirror_mode": {
    "name": "ipython",
    "version": 3
   },
   "file_extension": ".py",
   "mimetype": "text/x-python",
   "name": "python",
   "nbconvert_exporter": "python",
   "pygments_lexer": "ipython3",
   "version": "3.7.3"
  }
 },
 "nbformat": 4,
 "nbformat_minor": 2
}
